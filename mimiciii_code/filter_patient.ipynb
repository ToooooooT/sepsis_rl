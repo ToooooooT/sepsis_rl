{
 "cells": [
  {
   "cell_type": "markdown",
   "id": "dc09e57d",
   "metadata": {},
   "source": [
    "## Import package"
   ]
  },
  {
   "cell_type": "code",
   "execution_count": 1,
   "id": "3fd65b13",
   "metadata": {},
   "outputs": [],
   "source": [
    "import pandas as pd\n",
    "import os\n",
    "import numpy as np\n",
    "from collections import defaultdict\n",
    "from tqdm import tqdm\n",
    "import gc\n",
    "\n",
    "pd.options.mode.chained_assignment = None"
   ]
  },
  {
   "cell_type": "code",
   "execution_count": 9,
   "id": "dec37b8c",
   "metadata": {},
   "outputs": [],
   "source": [
    "source_path = '../data/mimiciii/source_data/'\n",
    "dest_path = '../data/mimiciii/preprocess_data/'"
   ]
  },
  {
   "cell_type": "markdown",
   "id": "a7068467",
   "metadata": {},
   "source": [
    "## Split CHARTEVENTS to several dataset"
   ]
  },
  {
   "cell_type": "code",
   "execution_count": 4,
   "id": "d23bfa80",
   "metadata": {
    "collapsed": true
   },
   "outputs": [
    {
     "name": "stderr",
     "output_type": "stream",
     "text": [
      "0it [00:00, ?it/s]/home/toooot/anaconda3/lib/python3.9/site-packages/IPython/core/interactiveshell.py:3444: DtypeWarning: Columns (8,13,14) have mixed types.Specify dtype option on import or set low_memory=False.\n",
      "  exec(code_obj, self.user_global_ns, self.user_ns)\n",
      "4it [06:36, 98.71s/it] /home/toooot/anaconda3/lib/python3.9/site-packages/IPython/core/interactiveshell.py:3444: DtypeWarning: Columns (13) have mixed types.Specify dtype option on import or set low_memory=False.\n",
      "  exec(code_obj, self.user_global_ns, self.user_ns)\n",
      "6it [09:54, 99.03s/it]/home/toooot/anaconda3/lib/python3.9/site-packages/IPython/core/interactiveshell.py:3444: DtypeWarning: Columns (8,10,14) have mixed types.Specify dtype option on import or set low_memory=False.\n",
      "  exec(code_obj, self.user_global_ns, self.user_ns)\n",
      "9it [13:37, 90.83s/it]\n"
     ]
    }
   ],
   "source": [
    "count = 1\n",
    "for reader in tqdm(pd.read_csv(source_path + 'CHARTEVENTS.csv', chunksize = 40000000)):\n",
    "    reader.to_csv(dest_path + 'CHARTEVENTS' + str(count) + '.csv', index=False)\n",
    "    count += 1"
   ]
  },
  {
   "cell_type": "markdown",
   "id": "29430667",
   "metadata": {},
   "source": [
    "## Load Data"
   ]
  },
  {
   "cell_type": "code",
   "execution_count": 3,
   "id": "1479e8b5",
   "metadata": {
    "collapsed": true
   },
   "outputs": [
    {
     "data": {
      "text/plain": [
       "['ADMISSIONS.csv',\n",
       " 'DIAGNOSES_ICD.csv',\n",
       " 'DRGCODES.csv',\n",
       " 'D_ICD_DIAGNOSES.csv',\n",
       " 'D_ICD_PROCEDURES.csv',\n",
       " 'D_ITEMS.csv',\n",
       " 'D_LABITEMS.csv',\n",
       " 'ICUSTAYS.csv',\n",
       " 'INPUTEVENTS_CV.csv',\n",
       " 'INPUTEVENTS_MV.csv',\n",
       " 'LABEVENTS.csv',\n",
       " 'MICROBIOLOGYEVENTS.csv',\n",
       " 'NOTEEVENTS.csv',\n",
       " 'OUTPUTEVENTS.csv',\n",
       " 'PATIENTS.csv',\n",
       " 'PRESCRIPTIONS.csv',\n",
       " 'PROCEDUREEVENTS_MV.csv',\n",
       " 'PROCEDURES_ICD.csv']"
      ]
     },
     "execution_count": 3,
     "metadata": {},
     "output_type": "execute_result"
    }
   ],
   "source": [
    "paths = sorted(os.listdir(source_path))\n",
    "remove_paths = []\n",
    "for path in paths:\n",
    "    if path[-4:] != '.csv':\n",
    "        remove_paths.append(path)\n",
    "for path in remove_paths:\n",
    "    paths.remove(path)\n",
    "paths.remove('CALLOUT.csv')\n",
    "paths.remove('CAREGIVERS.csv')\n",
    "paths.remove('CHARTEVENTS.csv')\n",
    "paths.remove('CPTEVENTS.csv')\n",
    "paths.remove('DATETIMEEVENTS.csv')\n",
    "paths.remove('SERVICES.csv',)\n",
    "paths.remove('TRANSFERS.csv')\n",
    "paths.remove('D_CPT.csv')\n",
    "paths"
   ]
  },
  {
   "cell_type": "code",
   "execution_count": 4,
   "id": "b7e8f44d",
   "metadata": {
    "collapsed": true
   },
   "outputs": [
    {
     "name": "stderr",
     "output_type": "stream",
     "text": [
      " 44%|██████████████████████████████████████████████████████████████████████████▏                                                                                            | 8/18 [00:00<00:00, 29.62it/s]/home/toooot/anaconda3/lib/python3.9/site-packages/IPython/core/interactiveshell.py:3444: DtypeWarning: Columns (7,9,17,20,21) have mixed types.Specify dtype option on import or set low_memory=False.\n",
      "  exec(code_obj, self.user_global_ns, self.user_ns)\n",
      " 61%|█████████████████████████████████████████████████████████████████████████████████████████████████████▍                                                                | 11/18 [00:40<00:27,  3.92s/it]/home/toooot/anaconda3/lib/python3.9/site-packages/IPython/core/interactiveshell.py:3444: DtypeWarning: Columns (4,5) have mixed types.Specify dtype option on import or set low_memory=False.\n",
      "  exec(code_obj, self.user_global_ns, self.user_ns)\n",
      " 78%|█████████████████████████████████████████████████████████████████████████████████████████████████████████████████████████████████                                     | 14/18 [00:50<00:19,  4.99s/it]/home/toooot/anaconda3/lib/python3.9/site-packages/IPython/core/interactiveshell.py:3444: DtypeWarning: Columns (11) have mixed types.Specify dtype option on import or set low_memory=False.\n",
      "  exec(code_obj, self.user_global_ns, self.user_ns)\n",
      "100%|██████████████████████████████████████████████████████████████████████████████████████████████████████████████████████████████████████████████████████████████████████| 18/18 [00:54<00:00,  3.04s/it]\n",
      " 44%|██████████████████████████████████████████████████████████████████████████▋                                                                                             | 4/9 [01:12<01:31, 18.22s/it]/home/toooot/anaconda3/lib/python3.9/site-packages/IPython/core/interactiveshell.py:3444: DtypeWarning: Columns (13) have mixed types.Specify dtype option on import or set low_memory=False.\n",
      "  exec(code_obj, self.user_global_ns, self.user_ns)\n",
      " 56%|█████████████████████████████████████████████████████████████████████████████████████████████▎                                                                          | 5/9 [01:38<01:24, 21.05s/it]/home/toooot/anaconda3/lib/python3.9/site-packages/IPython/core/interactiveshell.py:3444: DtypeWarning: Columns (8,13,14) have mixed types.Specify dtype option on import or set low_memory=False.\n",
      "  exec(code_obj, self.user_global_ns, self.user_ns)\n",
      " 78%|██████████████████████████████████████████████████████████████████████████████████████████████████████████████████████████████████▋                                     | 7/9 [02:31<00:48, 24.06s/it]/home/toooot/anaconda3/lib/python3.9/site-packages/IPython/core/interactiveshell.py:3444: DtypeWarning: Columns (8,10,14) have mixed types.Specify dtype option on import or set low_memory=False.\n",
      "  exec(code_obj, self.user_global_ns, self.user_ns)\n",
      "100%|████████████████████████████████████████████████████████████████████████████████████████████████████████████████████████████████████████████████████████████████████████| 9/9 [03:30<00:00, 23.36s/it]\n"
     ]
    }
   ],
   "source": [
    "datas = []\n",
    "for path in tqdm(paths):\n",
    "    datas.append(pd.read_csv(source_path + path))\n",
    "    \n",
    "for path in tqdm(sorted(os.listdir(dest_path))):\n",
    "    datas.append(pd.read_csv(dest_path + path))\n",
    "\n",
    "paths += sorted(list(os.listdir(dest_path)))"
   ]
  },
  {
   "cell_type": "markdown",
   "id": "5ebc3041",
   "metadata": {},
   "source": [
    "## Clean Data to remain SEPSIS patient and sort Data"
   ]
  },
  {
   "cell_type": "code",
   "execution_count": 5,
   "id": "fdbc62fd",
   "metadata": {
    "collapsed": true
   },
   "outputs": [
    {
     "data": {
      "text/html": [
       "<div>\n",
       "<style scoped>\n",
       "    .dataframe tbody tr th:only-of-type {\n",
       "        vertical-align: middle;\n",
       "    }\n",
       "\n",
       "    .dataframe tbody tr th {\n",
       "        vertical-align: top;\n",
       "    }\n",
       "\n",
       "    .dataframe thead th {\n",
       "        text-align: right;\n",
       "    }\n",
       "</style>\n",
       "<table border=\"1\" class=\"dataframe\">\n",
       "  <thead>\n",
       "    <tr style=\"text-align: right;\">\n",
       "      <th></th>\n",
       "      <th>ROW_ID</th>\n",
       "      <th>ICD9_CODE</th>\n",
       "      <th>SHORT_TITLE</th>\n",
       "      <th>LONG_TITLE</th>\n",
       "    </tr>\n",
       "  </thead>\n",
       "  <tbody>\n",
       "    <tr>\n",
       "      <th>9049</th>\n",
       "      <td>9050</td>\n",
       "      <td>77181</td>\n",
       "      <td>NB septicemia [sepsis]</td>\n",
       "      <td>Septicemia [sepsis] of newborn</td>\n",
       "    </tr>\n",
       "    <tr>\n",
       "      <th>10304</th>\n",
       "      <td>11403</td>\n",
       "      <td>99591</td>\n",
       "      <td>Sepsis</td>\n",
       "      <td>Sepsis</td>\n",
       "    </tr>\n",
       "    <tr>\n",
       "      <th>10305</th>\n",
       "      <td>11404</td>\n",
       "      <td>99592</td>\n",
       "      <td>Severe sepsis</td>\n",
       "      <td>Severe sepsis</td>\n",
       "    </tr>\n",
       "    <tr>\n",
       "      <th>13293</th>\n",
       "      <td>13564</td>\n",
       "      <td>67020</td>\n",
       "      <td>Puerperal sepsis-unsp</td>\n",
       "      <td>Puerperal sepsis, unspecified as to episode of...</td>\n",
       "    </tr>\n",
       "    <tr>\n",
       "      <th>13294</th>\n",
       "      <td>13565</td>\n",
       "      <td>67022</td>\n",
       "      <td>Puerprl sepsis-del w p/p</td>\n",
       "      <td>Puerperal sepsis, delivered, with mention of p...</td>\n",
       "    </tr>\n",
       "    <tr>\n",
       "      <th>13295</th>\n",
       "      <td>13566</td>\n",
       "      <td>67024</td>\n",
       "      <td>Puerperl sepsis-postpart</td>\n",
       "      <td>Puerperal sepsis, postpartum condition or comp...</td>\n",
       "    </tr>\n",
       "  </tbody>\n",
       "</table>\n",
       "</div>"
      ],
      "text/plain": [
       "       ROW_ID ICD9_CODE               SHORT_TITLE  \\\n",
       "9049     9050     77181    NB septicemia [sepsis]   \n",
       "10304   11403     99591                    Sepsis   \n",
       "10305   11404     99592             Severe sepsis   \n",
       "13293   13564     67020     Puerperal sepsis-unsp   \n",
       "13294   13565     67022  Puerprl sepsis-del w p/p   \n",
       "13295   13566     67024  Puerperl sepsis-postpart   \n",
       "\n",
       "                                              LONG_TITLE  \n",
       "9049                      Septicemia [sepsis] of newborn  \n",
       "10304                                             Sepsis  \n",
       "10305                                      Severe sepsis  \n",
       "13293  Puerperal sepsis, unspecified as to episode of...  \n",
       "13294  Puerperal sepsis, delivered, with mention of p...  \n",
       "13295  Puerperal sepsis, postpartum condition or comp...  "
      ]
     },
     "execution_count": 5,
     "metadata": {},
     "output_type": "execute_result"
    }
   ],
   "source": [
    "i = paths.index('D_ICD_DIAGNOSES.csv')\n",
    "D_ICD_DIAGNOSES = datas[i].copy()\n",
    "D_ICD_DIAGNOSES.drop(D_ICD_DIAGNOSES[['sepsis' not in s.lower() for s in D_ICD_DIAGNOSES['LONG_TITLE']]].index, inplace=True)\n",
    "D_ICD_DIAGNOSES.to_csv(dest_path + paths[i], index=False)\n",
    "D_ICD_DIAGNOSES"
   ]
  },
  {
   "cell_type": "code",
   "execution_count": 6,
   "id": "6a2f9f29",
   "metadata": {
    "collapsed": true
   },
   "outputs": [
    {
     "name": "stderr",
     "output_type": "stream",
     "text": [
      "100%|████████████████████████████████████████████████████████████████████████████████████████████████████████████████████████████████████████████████████████████| 651047/651047 [02:49<00:00, 3838.03it/s]\n"
     ]
    },
    {
     "data": {
      "text/html": [
       "<div>\n",
       "<style scoped>\n",
       "    .dataframe tbody tr th:only-of-type {\n",
       "        vertical-align: middle;\n",
       "    }\n",
       "\n",
       "    .dataframe tbody tr th {\n",
       "        vertical-align: top;\n",
       "    }\n",
       "\n",
       "    .dataframe thead th {\n",
       "        text-align: right;\n",
       "    }\n",
       "</style>\n",
       "<table border=\"1\" class=\"dataframe\">\n",
       "  <thead>\n",
       "    <tr style=\"text-align: right;\">\n",
       "      <th></th>\n",
       "      <th>ROW_ID</th>\n",
       "      <th>SUBJECT_ID</th>\n",
       "      <th>HADM_ID</th>\n",
       "      <th>SEQ_NUM</th>\n",
       "      <th>ICD9_CODE</th>\n",
       "    </tr>\n",
       "  </thead>\n",
       "  <tbody>\n",
       "    <tr>\n",
       "      <th>747</th>\n",
       "      <td>140</td>\n",
       "      <td>21</td>\n",
       "      <td>111970</td>\n",
       "      <td>11.0</td>\n",
       "      <td>99592</td>\n",
       "    </tr>\n",
       "    <tr>\n",
       "      <th>914</th>\n",
       "      <td>307</td>\n",
       "      <td>38</td>\n",
       "      <td>185910</td>\n",
       "      <td>3.0</td>\n",
       "      <td>99592</td>\n",
       "    </tr>\n",
       "    <tr>\n",
       "      <th>1084</th>\n",
       "      <td>477</td>\n",
       "      <td>61</td>\n",
       "      <td>189535</td>\n",
       "      <td>8.0</td>\n",
       "      <td>99591</td>\n",
       "    </tr>\n",
       "    <tr>\n",
       "      <th>1097</th>\n",
       "      <td>490</td>\n",
       "      <td>62</td>\n",
       "      <td>116009</td>\n",
       "      <td>4.0</td>\n",
       "      <td>99591</td>\n",
       "    </tr>\n",
       "    <tr>\n",
       "      <th>276</th>\n",
       "      <td>505</td>\n",
       "      <td>64</td>\n",
       "      <td>172056</td>\n",
       "      <td>3.0</td>\n",
       "      <td>99591</td>\n",
       "    </tr>\n",
       "    <tr>\n",
       "      <th>...</th>\n",
       "      <td>...</td>\n",
       "      <td>...</td>\n",
       "      <td>...</td>\n",
       "      <td>...</td>\n",
       "      <td>...</td>\n",
       "    </tr>\n",
       "    <tr>\n",
       "      <th>648640</th>\n",
       "      <td>650341</td>\n",
       "      <td>99836</td>\n",
       "      <td>101018</td>\n",
       "      <td>8.0</td>\n",
       "      <td>99592</td>\n",
       "    </tr>\n",
       "    <tr>\n",
       "      <th>649024</th>\n",
       "      <td>650470</td>\n",
       "      <td>99865</td>\n",
       "      <td>189346</td>\n",
       "      <td>4.0</td>\n",
       "      <td>99592</td>\n",
       "    </tr>\n",
       "    <tr>\n",
       "      <th>649529</th>\n",
       "      <td>650720</td>\n",
       "      <td>99912</td>\n",
       "      <td>189380</td>\n",
       "      <td>8.0</td>\n",
       "      <td>99592</td>\n",
       "    </tr>\n",
       "    <tr>\n",
       "      <th>648171</th>\n",
       "      <td>650990</td>\n",
       "      <td>99985</td>\n",
       "      <td>176670</td>\n",
       "      <td>7.0</td>\n",
       "      <td>99592</td>\n",
       "    </tr>\n",
       "    <tr>\n",
       "      <th>648182</th>\n",
       "      <td>651001</td>\n",
       "      <td>99991</td>\n",
       "      <td>151118</td>\n",
       "      <td>5.0</td>\n",
       "      <td>99592</td>\n",
       "    </tr>\n",
       "  </tbody>\n",
       "</table>\n",
       "<p>5409 rows × 5 columns</p>\n",
       "</div>"
      ],
      "text/plain": [
       "        ROW_ID  SUBJECT_ID  HADM_ID  SEQ_NUM ICD9_CODE\n",
       "747        140          21   111970     11.0     99592\n",
       "914        307          38   185910      3.0     99592\n",
       "1084       477          61   189535      8.0     99591\n",
       "1097       490          62   116009      4.0     99591\n",
       "276        505          64   172056      3.0     99591\n",
       "...        ...         ...      ...      ...       ...\n",
       "648640  650341       99836   101018      8.0     99592\n",
       "649024  650470       99865   189346      4.0     99592\n",
       "649529  650720       99912   189380      8.0     99592\n",
       "648171  650990       99985   176670      7.0     99592\n",
       "648182  651001       99991   151118      5.0     99592\n",
       "\n",
       "[5409 rows x 5 columns]"
      ]
     },
     "execution_count": 6,
     "metadata": {},
     "output_type": "execute_result"
    }
   ],
   "source": [
    "i = paths.index('DIAGNOSES_ICD.csv')\n",
    "datas[i].sort_values(by=['SUBJECT_ID', 'SEQ_NUM'], inplace=True)\n",
    "DIAGNOSES_ICD = datas[i].copy()\n",
    "drop_index = []\n",
    "for j in tqdm(DIAGNOSES_ICD.index):\n",
    "    for code in D_ICD_DIAGNOSES['ICD9_CODE']:\n",
    "        if str(DIAGNOSES_ICD.loc[j]['ICD9_CODE']) == code:\n",
    "            break\n",
    "    else:\n",
    "        drop_index.append(j)\n",
    "DIAGNOSES_ICD.drop(drop_index, inplace=True)\n",
    "del drop_index\n",
    "DIAGNOSES_ICD.to_csv(dest_path + paths[i], index=False)\n",
    "DIAGNOSES_ICD"
   ]
  },
  {
   "cell_type": "code",
   "execution_count": 7,
   "id": "bb6ccd16",
   "metadata": {
    "collapsed": true
   },
   "outputs": [
    {
     "data": {
      "text/html": [
       "<div>\n",
       "<style scoped>\n",
       "    .dataframe tbody tr th:only-of-type {\n",
       "        vertical-align: middle;\n",
       "    }\n",
       "\n",
       "    .dataframe tbody tr th {\n",
       "        vertical-align: top;\n",
       "    }\n",
       "\n",
       "    .dataframe thead th {\n",
       "        text-align: right;\n",
       "    }\n",
       "</style>\n",
       "<table border=\"1\" class=\"dataframe\">\n",
       "  <thead>\n",
       "    <tr style=\"text-align: right;\">\n",
       "      <th></th>\n",
       "      <th>SUBJECT_ID</th>\n",
       "      <th>HADM_ID</th>\n",
       "    </tr>\n",
       "  </thead>\n",
       "  <tbody>\n",
       "    <tr>\n",
       "      <th>0</th>\n",
       "      <td>21</td>\n",
       "      <td>111970</td>\n",
       "    </tr>\n",
       "    <tr>\n",
       "      <th>1</th>\n",
       "      <td>38</td>\n",
       "      <td>185910</td>\n",
       "    </tr>\n",
       "    <tr>\n",
       "      <th>2</th>\n",
       "      <td>61</td>\n",
       "      <td>189535</td>\n",
       "    </tr>\n",
       "    <tr>\n",
       "      <th>3</th>\n",
       "      <td>62</td>\n",
       "      <td>116009</td>\n",
       "    </tr>\n",
       "    <tr>\n",
       "      <th>4</th>\n",
       "      <td>64</td>\n",
       "      <td>172056</td>\n",
       "    </tr>\n",
       "    <tr>\n",
       "      <th>...</th>\n",
       "      <td>...</td>\n",
       "      <td>...</td>\n",
       "    </tr>\n",
       "    <tr>\n",
       "      <th>5404</th>\n",
       "      <td>99836</td>\n",
       "      <td>101018</td>\n",
       "    </tr>\n",
       "    <tr>\n",
       "      <th>5405</th>\n",
       "      <td>99865</td>\n",
       "      <td>189346</td>\n",
       "    </tr>\n",
       "    <tr>\n",
       "      <th>5406</th>\n",
       "      <td>99912</td>\n",
       "      <td>189380</td>\n",
       "    </tr>\n",
       "    <tr>\n",
       "      <th>5407</th>\n",
       "      <td>99985</td>\n",
       "      <td>176670</td>\n",
       "    </tr>\n",
       "    <tr>\n",
       "      <th>5408</th>\n",
       "      <td>99991</td>\n",
       "      <td>151118</td>\n",
       "    </tr>\n",
       "  </tbody>\n",
       "</table>\n",
       "<p>5409 rows × 2 columns</p>\n",
       "</div>"
      ],
      "text/plain": [
       "      SUBJECT_ID  HADM_ID\n",
       "0             21   111970\n",
       "1             38   185910\n",
       "2             61   189535\n",
       "3             62   116009\n",
       "4             64   172056\n",
       "...          ...      ...\n",
       "5404       99836   101018\n",
       "5405       99865   189346\n",
       "5406       99912   189380\n",
       "5407       99985   176670\n",
       "5408       99991   151118\n",
       "\n",
       "[5409 rows x 2 columns]"
      ]
     },
     "execution_count": 7,
     "metadata": {},
     "output_type": "execute_result"
    }
   ],
   "source": [
    "dataset = DIAGNOSES_ICD[['SUBJECT_ID', 'HADM_ID']].copy()\n",
    "dataset.sort_values(by=['SUBJECT_ID', 'HADM_ID'], inplace=True)\n",
    "dataset.index = range(len(dataset))\n",
    "dataset"
   ]
  },
  {
   "cell_type": "code",
   "execution_count": 8,
   "id": "a4b11320",
   "metadata": {},
   "outputs": [
    {
     "name": "stderr",
     "output_type": "stream",
     "text": [
      "100%|██████████████████████████████████████████████████████████████████████████████████████████████████████████████████████████████████████████████████████████████████████| 27/27 [27:09<00:00, 60.35s/it]\n"
     ]
    },
    {
     "data": {
      "text/plain": [
       "\"\\nfor i in tqdm(range(len(datas))):\\n    for column in datas[i].columns:\\n        if 'TIME' in column or 'DATE' in column or 'DOB' == column or 'DOD' == column or 'DOD_HOSP' == column or 'DOD_SSN' == column:\\n            datas[i][column] = datas[i][column].apply(lambda x : pd.Timestamp(x))\\n\""
      ]
     },
     "execution_count": 8,
     "metadata": {},
     "output_type": "execute_result"
    }
   ],
   "source": [
    "dict1 = defaultdict(list)\n",
    "for i in range(len(dataset)):\n",
    "    dict1[dataset['SUBJECT_ID'][i]].append(dataset['HADM_ID'][i])\n",
    "\n",
    "for i in tqdm(range(len(datas))):\n",
    "    if i == paths.index('DIAGNOSES_ICD.csv'):\n",
    "        continue\n",
    "    if 'SUBJECT_ID' in datas[i].columns and 'HADM_ID' in datas[i].columns:\n",
    "        drop_index = []\n",
    "        for j in datas[i].index:\n",
    "            if datas[i]['HADM_ID'][j] not in dict1[datas[i]['SUBJECT_ID'][j]]:\n",
    "                drop_index.append(j)\n",
    "        datas[i].drop(drop_index, inplace=True)\n",
    "        del drop_index\n",
    "        # datas[i].sort_values(by=['SUBJECT_ID', 'HADM_ID'], inplace=True)\n",
    "    elif 'SUBJECT_ID' in datas[i].columns:\n",
    "        datas[i] = datas[i][[id in dataset['SUBJECT_ID'].values for id in datas[i]['SUBJECT_ID']]]\n",
    "        # datas[i].sort_values(by=['SUBJECT_ID'], inplace=True)\n",
    "\n",
    "    datas[i].to_csv(dest_path + paths[i], index=False)\n",
    "    \n",
    "del dict1\n",
    "gc.collect()\n",
    "        \n",
    "i = paths.index('D_ICD_PROCEDURES.csv')\n",
    "datas[i].sort_values(by=['ICD9_CODE'], inplace=True)\n",
    "datas[i].to_csv(dest_path + paths[i], index=False)\n",
    "\n",
    "i = paths.index('D_ITEMS.csv')\n",
    "datas[i].sort_values(by=['ITEMID'], inplace=True)\n",
    "datas[i].to_csv(dest_path + paths[i], index=False)\n",
    "\n",
    "i = paths.index('D_LABITEMS.csv')\n",
    "datas[i].sort_values(by=['ITEMID'], inplace=True)\n",
    "datas[i].to_csv(dest_path + paths[i], index=False)"
   ]
  }
 ],
 "metadata": {
  "kernelspec": {
   "display_name": "Python 3 (ipykernel)",
   "language": "python",
   "name": "python3"
  },
  "language_info": {
   "codemirror_mode": {
    "name": "ipython",
    "version": 3
   },
   "file_extension": ".py",
   "mimetype": "text/x-python",
   "name": "python",
   "nbconvert_exporter": "python",
   "pygments_lexer": "ipython3",
   "version": "3.9.7"
  },
  "vscode": {
   "interpreter": {
    "hash": "a6b85f0b129ef5a67fa633f1e56824ea1826468491be8c35c5a2854f65d8242c"
   }
  }
 },
 "nbformat": 4,
 "nbformat_minor": 5
}
