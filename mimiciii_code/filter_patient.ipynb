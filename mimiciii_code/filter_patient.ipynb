{
 "cells": [
  {
   "cell_type": "markdown",
   "id": "dc09e57d",
   "metadata": {},
   "source": [
    "## Import package"
   ]
  },
  {
   "cell_type": "code",
   "execution_count": 1,
   "id": "3fd65b13",
   "metadata": {},
   "outputs": [],
   "source": [
    "import pandas as pd\n",
    "import os\n",
    "import numpy as np\n",
    "from collections import defaultdict\n",
    "from tqdm import tqdm\n",
    "import gc\n",
    "\n",
    "pd.options.mode.chained_assignment = None"
   ]
  },
  {
   "cell_type": "code",
   "execution_count": 2,
   "id": "dec37b8c",
   "metadata": {},
   "outputs": [],
   "source": [
    "source_path = '../data/mimiciii/source_data/'\n",
    "dest_path = '../data/mimiciii/preprocess_data/'"
   ]
  },
  {
   "cell_type": "markdown",
   "id": "a7068467",
   "metadata": {},
   "source": [
    "## Split CHARTEVENTS to several dataset"
   ]
  },
  {
   "cell_type": "code",
   "execution_count": 3,
   "id": "d23bfa80",
   "metadata": {},
   "outputs": [
    {
     "name": "stderr",
     "output_type": "stream",
     "text": [
      "0it [00:00, ?it/s]/home/toooot/anaconda3/lib/python3.9/site-packages/IPython/core/interactiveshell.py:3444: DtypeWarning: Columns (8,13,14) have mixed types.Specify dtype option on import or set low_memory=False.\n",
      "  exec(code_obj, self.user_global_ns, self.user_ns)\n",
      "4it [07:01, 105.77s/it]/home/toooot/anaconda3/lib/python3.9/site-packages/IPython/core/interactiveshell.py:3444: DtypeWarning: Columns (13) have mixed types.Specify dtype option on import or set low_memory=False.\n",
      "  exec(code_obj, self.user_global_ns, self.user_ns)\n",
      "6it [10:41, 108.19s/it]/home/toooot/anaconda3/lib/python3.9/site-packages/IPython/core/interactiveshell.py:3444: DtypeWarning: Columns (8,10,14) have mixed types.Specify dtype option on import or set low_memory=False.\n",
      "  exec(code_obj, self.user_global_ns, self.user_ns)\n",
      "9it [14:45, 98.36s/it] \n"
     ]
    }
   ],
   "source": [
    "count = 1\n",
    "for reader in tqdm(pd.read_csv(source_path + 'CHARTEVENTS.csv', chunksize = 40000000)):\n",
    "    reader.to_csv(dest_path + 'CHARTEVENTS' + str(count) + '.csv', index=False)\n",
    "    count += 1"
   ]
  },
  {
   "cell_type": "markdown",
   "id": "29430667",
   "metadata": {},
   "source": [
    "## Load Data"
   ]
  },
  {
   "cell_type": "code",
   "execution_count": 4,
   "id": "1479e8b5",
   "metadata": {},
   "outputs": [],
   "source": [
    "paths = sorted(os.listdir(source_path))\n",
    "remove_paths = []\n",
    "for path in paths:\n",
    "    if path[-4:] != '.csv':\n",
    "        remove_paths.append(path)\n",
    "for path in remove_paths:\n",
    "    paths.remove(path)\n",
    "paths.remove('CALLOUT.csv')\n",
    "paths.remove('CAREGIVERS.csv')\n",
    "paths.remove('CHARTEVENTS.csv')\n",
    "paths.remove('CPTEVENTS.csv')\n",
    "paths.remove('DATETIMEEVENTS.csv')\n",
    "paths.remove('SERVICES.csv',)\n",
    "paths.remove('TRANSFERS.csv')\n",
    "paths.remove('D_CPT.csv')"
   ]
  },
  {
   "cell_type": "code",
   "execution_count": 5,
   "id": "b7e8f44d",
   "metadata": {},
   "outputs": [
    {
     "name": "stderr",
     "output_type": "stream",
     "text": [
      " 44%|██████████████████████████████████████████████████████████████████████████▏                                                                                            | 8/18 [00:15<00:00, 28.00it/s]/home/toooot/anaconda3/lib/python3.9/site-packages/IPython/core/interactiveshell.py:3444: DtypeWarning: Columns (7,9,17,20,21) have mixed types.Specify dtype option on import or set low_memory=False.\n",
      "  exec(code_obj, self.user_global_ns, self.user_ns)\n",
      " 67%|██████████████████████████████████████████████████████████████████████████████████████████████████████████████▋                                                       | 12/18 [00:38<00:27,  4.55s/it]/home/toooot/anaconda3/lib/python3.9/site-packages/IPython/core/interactiveshell.py:3444: DtypeWarning: Columns (4,5) have mixed types.Specify dtype option on import or set low_memory=False.\n",
      "  exec(code_obj, self.user_global_ns, self.user_ns)\n",
      " 78%|█████████████████████████████████████████████████████████████████████████████████████████████████████████████████████████████████                                     | 14/18 [01:02<00:26,  6.73s/it]/home/toooot/anaconda3/lib/python3.9/site-packages/IPython/core/interactiveshell.py:3444: DtypeWarning: Columns (11) have mixed types.Specify dtype option on import or set low_memory=False.\n",
      "  exec(code_obj, self.user_global_ns, self.user_ns)\n",
      "100%|██████████████████████████████████████████████████████████████████████████████████████████████████████████████████████████████████████████████████████████████████████| 18/18 [01:06<00:00,  3.68s/it]\n",
      "100%|████████████████████████████████████████████████████████████████████████████████████████████████████████████████████████████████████████████████████████████████████████| 9/9 [05:08<00:00, 34.26s/it]\n"
     ]
    }
   ],
   "source": [
    "datas = []\n",
    "for path in tqdm(paths):\n",
    "    datas.append(pd.read_csv(source_path + path))\n",
    "    \n",
    "for path in tqdm(sorted(os.listdir(dest_path))):\n",
    "    datas.append(pd.read_csv(dest_path + path))\n",
    "\n",
    "paths += sorted(list(os.listdir(dest_path)))"
   ]
  },
  {
   "cell_type": "markdown",
   "id": "5ebc3041",
   "metadata": {},
   "source": [
    "## Clean Data to remain SEPSIS patient and sort Data"
   ]
  },
  {
   "cell_type": "code",
   "execution_count": 6,
   "id": "fdbc62fd",
   "metadata": {},
   "outputs": [],
   "source": [
    "i = paths.index('D_ICD_DIAGNOSES.csv')\n",
    "D_ICD_DIAGNOSES = datas[i].copy()\n",
    "D_ICD_DIAGNOSES.drop(D_ICD_DIAGNOSES[['sepsis' not in s.lower() for s in D_ICD_DIAGNOSES['LONG_TITLE']]].index, inplace=True)\n",
    "D_ICD_DIAGNOSES.to_csv(dest_path + paths[i], index=False)"
   ]
  },
  {
   "cell_type": "code",
   "execution_count": 7,
   "id": "6a2f9f29",
   "metadata": {},
   "outputs": [
    {
     "name": "stderr",
     "output_type": "stream",
     "text": [
      "100%|████████████████████████████████████████████████████████████████████████████████████████████████████████████████████████████████████████████████████████████| 651047/651047 [02:57<00:00, 3662.26it/s]\n",
      "100%|██████████████████████████████████████████████████████████████████████████████████████████████████████████████████████████████████████████████████████████| 651047/651047 [00:04<00:00, 156859.57it/s]\n"
     ]
    }
   ],
   "source": [
    "i = paths.index('DIAGNOSES_ICD.csv')\n",
    "datas[i].sort_values(by=['SUBJECT_ID', 'SEQ_NUM'], inplace=True)\n",
    "DIAGNOSES_ICD = datas[i].copy()\n",
    "\n",
    "patient = set()\n",
    "for j in tqdm(DIAGNOSES_ICD.index):\n",
    "    for code in D_ICD_DIAGNOSES['ICD9_CODE']:\n",
    "        if str(DIAGNOSES_ICD.loc[j]['ICD9_CODE']) == code:\n",
    "            patient.add((DIAGNOSES_ICD.loc[j]['SUBJECT_ID'], DIAGNOSES_ICD.loc[j]['HADM_ID']))\n",
    "            break\n",
    "\n",
    "drop_index = []\n",
    "for j in tqdm(DIAGNOSES_ICD.index):\n",
    "    subject_id = DIAGNOSES_ICD.loc[j, 'SUBJECT_ID']\n",
    "    hadm_id = DIAGNOSES_ICD.loc[j, 'HADM_ID']\n",
    "    if (subject_id, hadm_id) not in patient:\n",
    "        drop_index.append(j)\n",
    "DIAGNOSES_ICD.drop(drop_index, inplace=True)\n",
    "DIAGNOSES_ICD.to_csv(dest_path + paths[i], index=False)"
   ]
  },
  {
   "cell_type": "code",
   "execution_count": 8,
   "id": "d7707431",
   "metadata": {
    "scrolled": false
   },
   "outputs": [],
   "source": [
    "subject_id, hadm_id = [], []\n",
    "for sub, hadm in patient:\n",
    "    subject_id.append(sub)\n",
    "    hadm_id.append(hadm)\n",
    "dataset = pd.DataFrame({'SUBJECT_ID' : subject_id, 'HADM_ID' : hadm_id})\n",
    "dataset.sort_values(by=['SUBJECT_ID', 'HADM_ID'], inplace=True)\n",
    "dataset.index = range(len(dataset))\n",
    "dataset.to_csv('../data/mimiciii/patient.csv', index=False)"
   ]
  },
  {
   "cell_type": "code",
   "execution_count": 9,
   "id": "a4b11320",
   "metadata": {},
   "outputs": [
    {
     "name": "stderr",
     "output_type": "stream",
     "text": [
      "100%|██████████████████████████████████████████████████████████████████████████████████████████████████████████████████████████████████████████████████████████████████████| 27/27 [32:30<00:00, 72.25s/it]\n"
     ]
    }
   ],
   "source": [
    "dict1 = defaultdict(list)\n",
    "for i in range(len(dataset)):\n",
    "    dict1[dataset['SUBJECT_ID'][i]].append(dataset['HADM_ID'][i])\n",
    "\n",
    "for i in tqdm(range(len(datas))):\n",
    "    if i == paths.index('DIAGNOSES_ICD.csv'):\n",
    "        continue\n",
    "    if 'SUBJECT_ID' in datas[i].columns and 'HADM_ID' in datas[i].columns:\n",
    "        drop_index = []\n",
    "        for j in datas[i].index:\n",
    "            if datas[i]['HADM_ID'][j] not in dict1[datas[i]['SUBJECT_ID'][j]]:\n",
    "                drop_index.append(j)\n",
    "        datas[i].drop(drop_index, inplace=True)\n",
    "        del drop_index\n",
    "        # datas[i].sort_values(by=['SUBJECT_ID', 'HADM_ID'], inplace=True)\n",
    "    elif 'SUBJECT_ID' in datas[i].columns:\n",
    "        datas[i] = datas[i][[id in dataset['SUBJECT_ID'].values for id in datas[i]['SUBJECT_ID']]]\n",
    "        # datas[i].sort_values(by=['SUBJECT_ID'], inplace=True)\n",
    "\n",
    "    datas[i].to_csv(dest_path + paths[i], index=False)\n",
    "    \n",
    "del dict1\n",
    "gc.collect()\n",
    "        \n",
    "i = paths.index('D_ICD_PROCEDURES.csv')\n",
    "datas[i].sort_values(by=['ICD9_CODE'], inplace=True)\n",
    "datas[i].to_csv(dest_path + paths[i], index=False)\n",
    "\n",
    "i = paths.index('D_ITEMS.csv')\n",
    "datas[i].sort_values(by=['ITEMID'], inplace=True)\n",
    "datas[i].to_csv(dest_path + paths[i], index=False)\n",
    "\n",
    "i = paths.index('D_LABITEMS.csv')\n",
    "datas[i].sort_values(by=['ITEMID'], inplace=True)\n",
    "datas[i].to_csv(dest_path + paths[i], index=False)"
   ]
  }
 ],
 "metadata": {
  "kernelspec": {
   "display_name": "Python 3 (ipykernel)",
   "language": "python",
   "name": "python3"
  },
  "language_info": {
   "codemirror_mode": {
    "name": "ipython",
    "version": 3
   },
   "file_extension": ".py",
   "mimetype": "text/x-python",
   "name": "python",
   "nbconvert_exporter": "python",
   "pygments_lexer": "ipython3",
   "version": "3.8.13 (default, Oct 21 2022, 23:50:54) \n[GCC 11.2.0]"
  },
  "vscode": {
   "interpreter": {
    "hash": "a6b85f0b129ef5a67fa633f1e56824ea1826468491be8c35c5a2854f65d8242c"
   }
  }
 },
 "nbformat": 4,
 "nbformat_minor": 5
}
