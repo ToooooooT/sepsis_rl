{
 "cells": [
  {
   "cell_type": "code",
   "execution_count": 6,
   "id": "e49e5f72",
   "metadata": {},
   "outputs": [],
   "source": [
    "import pandas as pd\n",
    "import numpy as np "
   ]
  },
  {
   "cell_type": "code",
   "execution_count": 7,
   "id": "56f156aa",
   "metadata": {},
   "outputs": [],
   "source": [
    "index = [\n",
    "         'GCS', 'SOFA', 'Albumin', 'Arterial pH', 'Calcium', 'Glucose', \n",
    "         'Hemoglobin', 'Magnesium', 'PTT', 'Postassium', 'SGPT',\n",
    "         'Arterial_BE', 'BUN', 'HCO3', 'INR',\n",
    "         'Arterial Lactate', 'CO2', 'Creatinine', 'Ionized Calcium',\n",
    "         'PT', 'Platelets Count', 'SGOT', 'Total Bilirubin', \n",
    "         'White Blood Cell Count', 'Chloride', 'Diastolic Blood Pressure',\n",
    "         'Systolic Blood Pressure', 'Mean Blood Pressure', 'PaCO2',\n",
    "         'PaO2', 'FiO2', 'Respiratory rate',\n",
    "         'Temperature (Celsius)', 'Weight (kg)', 'Heart Rate',\n",
    "         'SpO2'\n",
    "        ]\n",
    "\n",
    "data = {\n",
    "        'OUTLIER LOW': [np.nan] * len(index), \n",
    "        'VALID LOW': [np.nan] * len(index), \n",
    "        'IMPUTE': [np.nan] * len(index), \n",
    "        'VALID HIGH': [np.nan] * len(index),\n",
    "        'OUTLIER HIGH': [np.nan] * len(index),\n",
    "        'GROUP_ID': ['-1'] * len(index)\n",
    "       }"
   ]
  },
  {
   "cell_type": "code",
   "execution_count": 8,
   "id": "412d6fb4",
   "metadata": {},
   "outputs": [],
   "source": [
    "data = pd.DataFrame(data, index=index)"
   ]
  },
  {
   "cell_type": "code",
   "execution_count": 9,
   "id": "5a746b94",
   "metadata": {},
   "outputs": [],
   "source": [
    "# column = ('OUTLIER LOW', 'VALID LOW', 'IMPUTE', 'VALID HIGH', 'OUTLIER_HIGH', 'GROUP_ID')\n",
    "data.loc['GCS'] = [0, 0, np.nan, 15, 15, '198']\n",
    "data.loc['SOFA'] = [0, 0, np.nan, 24, 24, '227428']\n",
    "data.loc['Albumin'] = [0, 0.6, 3.1, 6, 60, '772, 1521, 3727, 227456, 50862'] # delete some group_id from MIMIC_EXTRACT\n",
    "data.loc['Arterial pH', 'GROUP_ID'] = '780, 1126, 3839, 4753, 223830, 50820'\n",
    "data.loc['Calcium', 'GROUP_ID'] = '786, 1522, 3746, 225625, 50893'\n",
    "data.loc['Glucose'] = [0, 33, 128, 2000, 2200, '807, 811, 1529, 3744, 220621, 225664, 226537, 50809, 50931']\n",
    "data.loc['Hemoglobin'] = [0, 0, 10.2, 25, 30, '814, 220228, 50811, 51222']\n",
    "data.loc['Magnesium'] = [0, 0, 2, 20, 22, '821, 1532, 220635, 50960']\n",
    "data.loc['PTT'] = [0, 18.8, 34.3, 150, 150, '825, 1533, 3796, 227466, 51275']\n",
    "data.loc['Postassium'] = [0, 0, 4.1, 12, 15, '829, 1535, 3792, 4194, 227442, 227464, 50822, 50971']\n",
    "data.loc['SGPT', 'GROUP_ID'] = '769, 3802, 50861'\n",
    "data.loc['Arterial_BE', 'GROUP_ID'] = '74, 776, 3736, 3740, 4196, 224828, 50802'\n",
    "data.loc['BUN'] = [0, 0, 23, 250, 275, '781, 1162, 225624, 51006']\n",
    "data.loc['HCO3'] = [0, 0, 25, 60, 66, '227443, 50803, 50882']\n",
    "data.loc['INR', 'GROUP_ID'] = '815, 1530, 227467, 51237'\n",
    "data.loc['Arterial Lactate'] = [0, 0.4, 1.8, 30, 33, '50813']\n",
    "data.loc['CO2', 'GROUP_ID'] = '777, 787, 3810, 50804'\n",
    "data.loc['Creatinine'] = [0, 0.1, 1, 60, 66, '791, 1525, 3750, 220615, 50912, 51081']\n",
    "data.loc['Ionized Calcium', 'GROUP_ID'] = '816, 3766, 225667, 50808'\n",
    "data.loc['PT'] = [0, 9.9, 14.5, 97.1, 150, '824, 1286, 227465, 51274']\n",
    "data.loc['Platelets Count'] = [0, 0, 208, 2000, 2200, '828, 3789, 227457, 51265']\n",
    "data.loc['SGOT', 'GROUP_ID'] = '770, 3801, 50878'\n",
    "data.loc['Total Bilirubin'] = [0, 0.1, 0.9, 60, 66, '848, 1527, 1538, 225651, 225690, 50883, 50885'] # delete some group_id from MIMIC_EXTRACT\n",
    "data.loc['White Blood Cell Count'] = [0, 0, 9.9, 1000, 1100, '861, 1127, 1542, 3834, 4200, 220546, 51300, 51301']\n",
    "data.loc['Chloride'] = [0, 50, 104, 175, 200, '788, 1523, 3747, 4193, 220602, 226536, 50806, 50902']\n",
    "data.loc['Diastolic Blood Pressure'] = [0, 0, 59, 375, 375, '8364, 8368, 8440, 8441, 8555, 220051, 220180, 224643, 225310']\n",
    "data.loc['Systolic Blood Pressure'] = [0, 0, 118, 375, 375, '6, 51, 442, 6701, 220179, 224167, 225309, 227243']\n",
    "data.loc['Mean Blood Pressure'] = [0, 14, 77, 330, 375, '52, 224, 443, 455, 456, 6702, 220052, 220181, 224322, 225312']\n",
    "data.loc['PaCO2'] = [0, 0, 40, 200, 220, '778, 220235, 226062, 50818']\n",
    "data.loc['PaO2'] = [0, 32, 112, 700, 770, '779, 50821']\n",
    "data.loc['FiO2'] = [0.2, 0.21, 0.21, 1, 1.1, '189, 190, 727, 3420, 223835']\n",
    "data.loc['Respiratory rate'] = [0, 0, 19, 300, 330, '614, 615, 618, 651, 3337, 3603, 220210, 224422, 224689, 224690']\n",
    "data.loc['Temperature (Celsius)'] = [14.2, 26, 37, 45, 47, '676, 677, 678, 679, 3655, 223761, 223762']\n",
    "data.loc['Weight (kg)'] = [0, 0, 81.8, 250, 250, '763, 224639, 226512, 226531']\n",
    "data.loc['Heart Rate'] = [0, 0, 86, 350, 390, '211, 220045']\n",
    "data.loc['SpO2'] = [0, 0, 98, 100, 150, '646, 834, 220277, 50817']"
   ]
  },
  {
   "cell_type": "code",
   "execution_count": 10,
   "id": "0afd3e32",
   "metadata": {},
   "outputs": [],
   "source": [
    "data.index.name = 'features'\n",
    "data.to_csv('../data/mimiciii/variable_range.csv')"
   ]
  }
 ],
 "metadata": {
  "kernelspec": {
   "display_name": "Python 3.8.13 ('sepsis')",
   "language": "python",
   "name": "python3"
  },
  "language_info": {
   "codemirror_mode": {
    "name": "ipython",
    "version": 3
   },
   "file_extension": ".py",
   "mimetype": "text/x-python",
   "name": "python",
   "nbconvert_exporter": "python",
   "pygments_lexer": "ipython3",
   "version": "3.8.13"
  },
  "vscode": {
   "interpreter": {
    "hash": "a6b85f0b129ef5a67fa633f1e56824ea1826468491be8c35c5a2854f65d8242c"
   }
  }
 },
 "nbformat": 4,
 "nbformat_minor": 5
}
