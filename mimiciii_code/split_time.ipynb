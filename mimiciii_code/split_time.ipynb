{
 "cells": [
  {
   "cell_type": "markdown",
   "id": "dc09e57d",
   "metadata": {},
   "source": [
    "## Import package"
   ]
  },
  {
   "cell_type": "code",
   "execution_count": 1,
   "id": "3fd65b13",
   "metadata": {},
   "outputs": [],
   "source": [
    "import pandas as pd\n",
    "import os\n",
    "import numpy as np\n",
    "from collections import defaultdict\n",
    "from tqdm import tqdm\n",
    "import gc\n",
    "from multiprocessing import Process\n",
    "\n",
    "pd.options.mode.chained_assignment = None"
   ]
  },
  {
   "cell_type": "code",
   "execution_count": 2,
   "id": "dec37b8c",
   "metadata": {},
   "outputs": [],
   "source": [
    "preprocess_path = '../data/mimiciii/preprocess_data/'\n",
    "temporal_path = '../data/mimiciii/temporal_dataset/'"
   ]
  },
  {
   "cell_type": "markdown",
   "id": "29430667",
   "metadata": {},
   "source": [
    "## Load Data"
   ]
  },
  {
   "cell_type": "code",
   "execution_count": 3,
   "id": "b7e8f44d",
   "metadata": {},
   "outputs": [
    {
     "name": "stderr",
     "output_type": "stream",
     "text": [
      "  0%|                                                                                                                                                                               | 0/27 [00:00<?, ?it/s]/home/toooot/anaconda3/lib/python3.9/site-packages/IPython/core/interactiveshell.py:3444: DtypeWarning: Columns (8,13,14) have mixed types.Specify dtype option on import or set low_memory=False.\n",
      "  exec(code_obj, self.user_global_ns, self.user_ns)\n",
      " 19%|██████████████████████████████▉                                                                                                                                        | 5/27 [00:18<01:21,  3.72s/it]/home/toooot/anaconda3/lib/python3.9/site-packages/IPython/core/interactiveshell.py:3444: DtypeWarning: Columns (13) have mixed types.Specify dtype option on import or set low_memory=False.\n",
      "  exec(code_obj, self.user_global_ns, self.user_ns)\n",
      " 26%|███████████████████████████████████████████▎                                                                                                                           | 7/27 [00:27<01:22,  4.12s/it]/home/toooot/anaconda3/lib/python3.9/site-packages/IPython/core/interactiveshell.py:3444: DtypeWarning: Columns (8,10,14) have mixed types.Specify dtype option on import or set low_memory=False.\n",
      "  exec(code_obj, self.user_global_ns, self.user_ns)\n",
      " 37%|█████████████████████████████████████████████████████████████▍                                                                                                        | 10/27 [00:38<01:01,  3.64s/it]/home/toooot/anaconda3/lib/python3.9/site-packages/IPython/core/interactiveshell.py:3444: DtypeWarning: Columns (7,9,17,20,21) have mixed types.Specify dtype option on import or set low_memory=False.\n",
      "  exec(code_obj, self.user_global_ns, self.user_ns)\n",
      "100%|██████████████████████████████████████████████████████████████████████████████████████████████████████████████████████████████████████████████████████████████████████| 27/27 [00:51<00:00,  1.89s/it]\n"
     ]
    }
   ],
   "source": [
    "datas = list()\n",
    "paths = sorted(os.listdir(preprocess_path))\n",
    "for path in tqdm(paths):\n",
    "    datas.append(pd.read_csv(preprocess_path + path))"
   ]
  },
  {
   "cell_type": "markdown",
   "id": "5ebc3041",
   "metadata": {},
   "source": [
    "# Look Data characteristics"
   ]
  },
  {
   "cell_type": "code",
   "execution_count": 4,
   "id": "2489f9ad",
   "metadata": {},
   "outputs": [
    {
     "name": "stderr",
     "output_type": "stream",
     "text": [
      "100%|██████████████████████████████████████████████████████████████████████████████████████████████████████████████████████████████████████████████████████████████████████| 27/27 [03:23<00:00,  7.55s/it]\n"
     ]
    }
   ],
   "source": [
    "for i in tqdm(range(len(datas))):\n",
    "    for column in datas[i].columns:\n",
    "        if 'TIME' in column or 'DATE' in column or 'DOB' == column or 'DOD' == column or 'DOD_HOSP' == column or 'DOD_SSN' == column:\n",
    "            datas[i][column] = datas[i][column].apply(lambda x : pd.Timestamp(x))"
   ]
  },
  {
   "cell_type": "code",
   "execution_count": 5,
   "id": "fdbc62fd",
   "metadata": {},
   "outputs": [],
   "source": [
    "i = paths.index('D_ICD_DIAGNOSES.csv')\n",
    "D_ICD_DIAGNOSES = datas[i].copy()\n",
    "\n",
    "i = paths.index('DIAGNOSES_ICD.csv')\n",
    "DIAGNOSES_ICD = datas[i].copy()\n",
    "\n",
    "i = paths.index('ICUSTAYS.csv')\n",
    "ICUSTAYS = datas[i].copy()\n",
    "\n",
    "i = paths.index('PATIENTS.csv')\n",
    "PATIENTS = datas[i].copy()\n",
    "\n",
    "i = paths.index('ADMISSIONS.csv')\n",
    "ADMISSIONS = datas[i].copy()"
   ]
  },
  {
   "cell_type": "markdown",
   "id": "f6eb7d42",
   "metadata": {},
   "source": [
    "# Load dataset"
   ]
  },
  {
   "cell_type": "code",
   "execution_count": 6,
   "id": "f0e8efe3",
   "metadata": {},
   "outputs": [],
   "source": [
    "dataset = pd.read_csv('../data/mimiciii/patient.csv')"
   ]
  },
  {
   "cell_type": "markdown",
   "id": "6299ec9a",
   "metadata": {},
   "source": [
    "## Add gender and age to dataset"
   ]
  },
  {
   "cell_type": "code",
   "execution_count": 7,
   "id": "93691c94",
   "metadata": {},
   "outputs": [],
   "source": [
    "dataset['DOB'] = np.nan\n",
    "dataset['Gender'] = np.nan\n",
    "\n",
    "for i in PATIENTS.index:\n",
    "    subject_id = PATIENTS['SUBJECT_ID'].loc[i]\n",
    "    gender = PATIENTS['GENDER'].loc[i]\n",
    "    dob = PATIENTS['DOB'].loc[i]\n",
    "    index = dataset[dataset['SUBJECT_ID'] == subject_id].index\n",
    "    dataset['DOB'].loc[index] = dob\n",
    "    dataset['Gender'].loc[index] = gender\n",
    "    \n",
    "dataset['Gender'] = dataset['Gender'].apply(lambda x : 1 if x == 'M' else 0)"
   ]
  },
  {
   "cell_type": "markdown",
   "id": "fc02d39d",
   "metadata": {},
   "source": [
    "## Add death time, admit time, discharge time to dataset"
   ]
  },
  {
   "cell_type": "code",
   "execution_count": 8,
   "id": "502373dd",
   "metadata": {},
   "outputs": [],
   "source": [
    "dataset['DEATHTIME'] = np.nan\n",
    "dataset['ADMITTIME'] = np.nan\n",
    "dataset['DISCHTIME'] = np.nan\n",
    "\n",
    "for i in ADMISSIONS.index:\n",
    "    subject_id = ADMISSIONS['SUBJECT_ID'].loc[i]\n",
    "    hadm_id = ADMISSIONS['HADM_ID'].loc[i]\n",
    "    death_time = ADMISSIONS['DEATHTIME'].loc[i]\n",
    "    admittime = ADMISSIONS['ADMITTIME'].loc[i]\n",
    "    dischtime = ADMISSIONS['DISCHTIME'].loc[i]\n",
    "    index = dataset.query(f'SUBJECT_ID == {subject_id} & HADM_ID == {hadm_id}').index\n",
    "    dataset['DEATHTIME'].loc[index] = death_time\n",
    "    dataset['ADMITTIME'].loc[index] = admittime\n",
    "    dataset['DISCHTIME'].loc[index] = dischtime"
   ]
  },
  {
   "cell_type": "markdown",
   "id": "33ef7d78",
   "metadata": {},
   "source": [
    "## change time by ICUSTAY_ID in dataset"
   ]
  },
  {
   "cell_type": "code",
   "execution_count": 9,
   "id": "7aad1ab8",
   "metadata": {},
   "outputs": [],
   "source": [
    "for i in ICUSTAYS.index:\n",
    "    subject_id = ICUSTAYS['SUBJECT_ID'].loc[i]\n",
    "    hadm_id = ICUSTAYS['HADM_ID'].loc[i]\n",
    "    intime = ICUSTAYS['INTIME'].loc[i]\n",
    "    outtime = ICUSTAYS['OUTTIME'].loc[i]\n",
    "    index = dataset.query(f'SUBJECT_ID == {subject_id} & HADM_ID == {hadm_id}').index\n",
    "    if dataset['ADMITTIME'].isnull()[index[0]]:\n",
    "        dataset['ADMITTIME'].loc[index[0]] = intime\n",
    "    elif dataset['ADMITTIME'].loc[index[0]] - intime > pd.Timedelta('00:00:00'):\n",
    "        dataset['ADMITTIME'].loc[index[0]] = intime\n",
    "    if dataset['DISCHTIME'].isnull()[index[0]]:\n",
    "        dataset['DISCHTIME'].loc[index[0]] = outtime\n",
    "    elif dataset['DISCHTIME'].loc[index[0]] - outtime < pd.Timedelta('00:00:00'):\n",
    "        dataset['DISCHTIME'].loc[index[0]] = outtime"
   ]
  },
  {
   "cell_type": "markdown",
   "id": "49875e76",
   "metadata": {},
   "source": [
    "## Add re-admission to dataset"
   ]
  },
  {
   "cell_type": "code",
   "execution_count": 10,
   "id": "cb627b89",
   "metadata": {
    "scrolled": false
   },
   "outputs": [],
   "source": [
    "dataset['re_admission'] = np.nan\n",
    "\n",
    "dataset['re_admission'].loc[0] = 0\n",
    "for i in dataset.index[1:]:\n",
    "    if dataset['SUBJECT_ID'].loc[i] == dataset['SUBJECT_ID'].loc[i - 1]:\n",
    "        dataset['re_admission'].loc[i] = 1\n",
    "    else:\n",
    "        dataset['re_admission'].loc[i] = 0"
   ]
  },
  {
   "cell_type": "markdown",
   "id": "0d27f581",
   "metadata": {},
   "source": [
    "## Add elixhauser to dataset (Use SID score)"
   ]
  },
  {
   "cell_type": "code",
   "execution_count": 11,
   "id": "f999630b",
   "metadata": {},
   "outputs": [
    {
     "data": {
      "text/html": [
       "<div>\n",
       "<style scoped>\n",
       "    .dataframe tbody tr th:only-of-type {\n",
       "        vertical-align: middle;\n",
       "    }\n",
       "\n",
       "    .dataframe tbody tr th {\n",
       "        vertical-align: top;\n",
       "    }\n",
       "\n",
       "    .dataframe thead th {\n",
       "        text-align: right;\n",
       "    }\n",
       "</style>\n",
       "<table border=\"1\" class=\"dataframe\">\n",
       "  <thead>\n",
       "    <tr style=\"text-align: right;\">\n",
       "      <th></th>\n",
       "      <th>ROW_ID</th>\n",
       "      <th>SUBJECT_ID</th>\n",
       "      <th>HADM_ID</th>\n",
       "      <th>SEQ_NUM</th>\n",
       "      <th>ICD9_CODE</th>\n",
       "    </tr>\n",
       "  </thead>\n",
       "  <tbody>\n",
       "    <tr>\n",
       "      <th>0</th>\n",
       "      <td>130</td>\n",
       "      <td>21</td>\n",
       "      <td>111970</td>\n",
       "      <td>1.0</td>\n",
       "      <td>0388</td>\n",
       "    </tr>\n",
       "    <tr>\n",
       "      <th>1</th>\n",
       "      <td>131</td>\n",
       "      <td>21</td>\n",
       "      <td>111970</td>\n",
       "      <td>2.0</td>\n",
       "      <td>78552</td>\n",
       "    </tr>\n",
       "    <tr>\n",
       "      <th>2</th>\n",
       "      <td>132</td>\n",
       "      <td>21</td>\n",
       "      <td>111970</td>\n",
       "      <td>3.0</td>\n",
       "      <td>40391</td>\n",
       "    </tr>\n",
       "    <tr>\n",
       "      <th>3</th>\n",
       "      <td>133</td>\n",
       "      <td>21</td>\n",
       "      <td>111970</td>\n",
       "      <td>4.0</td>\n",
       "      <td>42731</td>\n",
       "    </tr>\n",
       "    <tr>\n",
       "      <th>4</th>\n",
       "      <td>134</td>\n",
       "      <td>21</td>\n",
       "      <td>111970</td>\n",
       "      <td>5.0</td>\n",
       "      <td>70709</td>\n",
       "    </tr>\n",
       "  </tbody>\n",
       "</table>\n",
       "</div>"
      ],
      "text/plain": [
       "   ROW_ID  SUBJECT_ID  HADM_ID  SEQ_NUM ICD9_CODE\n",
       "0     130          21   111970      1.0      0388\n",
       "1     131          21   111970      2.0     78552\n",
       "2     132          21   111970      3.0     40391\n",
       "3     133          21   111970      4.0     42731\n",
       "4     134          21   111970      5.0     70709"
      ]
     },
     "execution_count": 11,
     "metadata": {},
     "output_type": "execute_result"
    }
   ],
   "source": [
    "DIAGNOSES_ICD.head()"
   ]
  },
  {
   "cell_type": "code",
   "execution_count": 12,
   "id": "92e894b1",
   "metadata": {},
   "outputs": [
    {
     "data": {
      "text/html": [
       "<div>\n",
       "<style scoped>\n",
       "    .dataframe tbody tr th:only-of-type {\n",
       "        vertical-align: middle;\n",
       "    }\n",
       "\n",
       "    .dataframe tbody tr th {\n",
       "        vertical-align: top;\n",
       "    }\n",
       "\n",
       "    .dataframe thead th {\n",
       "        text-align: right;\n",
       "    }\n",
       "</style>\n",
       "<table border=\"1\" class=\"dataframe\">\n",
       "  <thead>\n",
       "    <tr style=\"text-align: right;\">\n",
       "      <th></th>\n",
       "      <th>elixhauser instructions</th>\n",
       "      <th>ROW_ID</th>\n",
       "      <th>ICD9_CODE</th>\n",
       "      <th>SHORT_TITLE</th>\n",
       "      <th>LONG_TITLE</th>\n",
       "    </tr>\n",
       "  </thead>\n",
       "  <tbody>\n",
       "    <tr>\n",
       "      <th>0</th>\n",
       "      <td>aids</td>\n",
       "      <td>7700.0</td>\n",
       "      <td>8322</td>\n",
       "      <td>Nursemaid's elbow</td>\n",
       "      <td>Nursemaid's elbow</td>\n",
       "    </tr>\n",
       "    <tr>\n",
       "      <th>1</th>\n",
       "      <td>aids</td>\n",
       "      <td>12795.0</td>\n",
       "      <td>V5864</td>\n",
       "      <td>Long-term anti-inflamtry</td>\n",
       "      <td>Long-term (current) use of non-steroidal anti-...</td>\n",
       "    </tr>\n",
       "    <tr>\n",
       "      <th>2</th>\n",
       "      <td>aids</td>\n",
       "      <td>11997.0</td>\n",
       "      <td>V532</td>\n",
       "      <td>Adjustment hearing aid</td>\n",
       "      <td>Fitting and adjustment of hearing aid</td>\n",
       "    </tr>\n",
       "    <tr>\n",
       "      <th>3</th>\n",
       "      <td>alcohol abuse</td>\n",
       "      <td>2895.0</td>\n",
       "      <td>30500</td>\n",
       "      <td>Alcohol abuse-unspec</td>\n",
       "      <td>Alcohol abuse, unspecified</td>\n",
       "    </tr>\n",
       "    <tr>\n",
       "      <th>4</th>\n",
       "      <td>alcohol abuse</td>\n",
       "      <td>2896.0</td>\n",
       "      <td>30501</td>\n",
       "      <td>Alcohol abuse-continuous</td>\n",
       "      <td>Alcohol abuse, continuous</td>\n",
       "    </tr>\n",
       "  </tbody>\n",
       "</table>\n",
       "</div>"
      ],
      "text/plain": [
       "  elixhauser instructions   ROW_ID ICD9_CODE               SHORT_TITLE  \\\n",
       "0                    aids   7700.0      8322         Nursemaid's elbow   \n",
       "1                    aids  12795.0     V5864  Long-term anti-inflamtry   \n",
       "2                    aids  11997.0      V532    Adjustment hearing aid   \n",
       "3           alcohol abuse   2895.0     30500      Alcohol abuse-unspec   \n",
       "4           alcohol abuse   2896.0     30501  Alcohol abuse-continuous   \n",
       "\n",
       "                                          LONG_TITLE  \n",
       "0                                  Nursemaid's elbow  \n",
       "1  Long-term (current) use of non-steroidal anti-...  \n",
       "2              Fitting and adjustment of hearing aid  \n",
       "3                         Alcohol abuse, unspecified  \n",
       "4                          Alcohol abuse, continuous  "
      ]
     },
     "execution_count": 12,
     "metadata": {},
     "output_type": "execute_result"
    }
   ],
   "source": [
    "elixhauser_ICD_CODE = pd.read_csv('../data/mimiciii/elixhauser_ICD_CODE.csv')\n",
    "elixhauser_ICD_CODE.head()"
   ]
  },
  {
   "cell_type": "code",
   "execution_count": 13,
   "id": "a86097fa",
   "metadata": {},
   "outputs": [],
   "source": [
    "coef_dict = {\n",
    "    'aids' : 0,\n",
    "    'alcohol abuse' : 0,\n",
    "    'blood loss anemias' : -3,\n",
    "    'cardiac arrhythmias' : 8,\n",
    "    'congestive heart failure' : 9,\n",
    "    'chronic pulmonary' : 3,\n",
    "    'coagulopathy' : 12,\n",
    "    'deficiency anemias' : 0,\n",
    "    'depression' : -5,\n",
    "    'diabetes complicated' : 1,\n",
    "    'diabetes uncomplicated' : 0,\n",
    "    'drug abuse' : -11,\n",
    "    'fluid electrolyte' : 11,\n",
    "    'hypertension' : -2,\n",
    "    'hypothyroidism' : 0,\n",
    "    'liver disease' : 7,\n",
    "    'lymphoma' : 8,\n",
    "    'metastatic cancer' : 17,\n",
    "    'other neurological' : 5,\n",
    "    'obesity' : -5,\n",
    "    'paralysis' : 4,\n",
    "    'peptic ucler' : 0,\n",
    "    'peripheral vascular' : 4,\n",
    "    'psychosis' : -6,\n",
    "    'pulmonary circulation' : 5,\n",
    "    'renal failure' : 7,\n",
    "    'rheumatoid arthritis' : 0,\n",
    "    'solid tumor' : 10,\n",
    "    'valvular_disease' : 0,\n",
    "    'weight_loss' : 10\n",
    "}\n",
    "\n",
    "def get_elixhauser(series, elixhauser_ICD_CODE):\n",
    "    subject_id = series['SUBJECT_ID']\n",
    "    hadm_id = series['HADM_ID']\n",
    "    icd_code_set = set(DIAGNOSES_ICD.query(f'SUBJECT_ID == {subject_id} & HADM_ID == {hadm_id}')['ICD9_CODE'].values)\n",
    "    total = 0\n",
    "    for key, value in coef_dict.items():\n",
    "        disease_code_set = set(elixhauser_ICD_CODE[elixhauser_ICD_CODE['elixhauser instructions'] == key]['ICD9_CODE'].values)\n",
    "        if len(icd_code_set.intersection(disease_code_set)) > 0:\n",
    "            total += value\n",
    "    return total\n",
    "    \n",
    "dataset['elixhauser'] = dataset.apply(get_elixhauser, axis=1, args=(elixhauser_ICD_CODE,))"
   ]
  },
  {
   "cell_type": "markdown",
   "id": "a583a466",
   "metadata": {},
   "source": [
    "# Split time"
   ]
  },
  {
   "cell_type": "code",
   "execution_count": 14,
   "id": "5ef23c86",
   "metadata": {},
   "outputs": [
    {
     "name": "stderr",
     "output_type": "stream",
     "text": [
      "100%|██████████████████████████████████████████████████████████████████████████████████████████████████████████████████████████████████████████████████████████████████| 5406/5406 [56:03<00:00,  1.61it/s]\n",
      "100%|████████████████████████████████████████████████████████████████████████████████████████████████████████████████████████████████████████████████████████████████| 5406/5406 [1:17:19<00:00,  1.17it/s]\n",
      "100%|████████████████████████████████████████████████████████████████████████████████████████████████████████████████████████████████████████████████████████████████| 5406/5406 [1:56:23<00:00,  1.29s/it]\n",
      "100%|████████████████████████████████████████████████████████████████████████████████████████████████████████████████████████████████████████████████████████████████| 5406/5406 [3:18:30<00:00,  2.20s/it]\n",
      "100%|████████████████████████████████████████████████████████████████████████████████████████████████████████████████████████████████████████████████████████████████| 5406/5406 [6:59:00<00:00,  4.65s/it]\n",
      "100%|███████████████████████████████████████████████████████████████████████████████████████████████████████████████████████████████████████████████████████████████| 5406/5406 [22:32:19<00:00, 15.01s/it]\n"
     ]
    }
   ],
   "source": [
    "dataset.sort_values(by=['SUBJECT_ID', 'ADMITTIME'])\n",
    "dataset['Age'] = np.nan\n",
    "\n",
    "def split_time(hour, dataset):\n",
    "    hour_period = f'0{hour}:00:00'\n",
    "    index = 0\n",
    "    split = pd.DataFrame(columns = dataset.columns)\n",
    "    for i in tqdm(dataset.index):\n",
    "        intime, outtime = dataset['ADMITTIME'].loc[i], dataset['DISCHTIME'].loc[i]\n",
    "        if dataset['ADMITTIME'].isnull()[i] or dataset['ADMITTIME'].isnull()[i]:\n",
    "            continue\n",
    "        while outtime - intime > pd.Timedelta(hour_period):\n",
    "            #['SUBJECT_ID', 'HADM_ID', 'DOB', 'Gender', 'DEATHTIME', 'ADMITTIME', 'DISCHTIME', 're_admission', 'elixhauser', 'Age']\n",
    "            split.loc[index] = [\n",
    "                dataset['SUBJECT_ID'].loc[i],\n",
    "                dataset['HADM_ID'].loc[i],\n",
    "                dataset['DOB'].loc[i],\n",
    "                dataset['Gender'].loc[i],\n",
    "                dataset['DEATHTIME'].loc[i],\n",
    "                intime,\n",
    "                intime + pd.Timedelta(hour_period),\n",
    "                dataset['re_admission'].loc[i],\n",
    "                dataset['elixhauser'].loc[i],\n",
    "                (intime.to_pydatetime() - dataset['DOB'].loc[i].to_pydatetime()).days / 365\n",
    "            ]\n",
    "            intime += pd.Timedelta(hour_period)\n",
    "            index += 1\n",
    "\n",
    "        split.loc[index] = [\n",
    "            dataset['SUBJECT_ID'].loc[i],\n",
    "            dataset['HADM_ID'].loc[i],\n",
    "            dataset['DOB'].loc[i],\n",
    "            dataset['Gender'].loc[i],\n",
    "            dataset['DEATHTIME'].loc[i],\n",
    "            intime,\n",
    "            outtime,\n",
    "            dataset['re_admission'].loc[i],\n",
    "            dataset['elixhauser'].loc[i],\n",
    "            (intime.to_pydatetime() - dataset['DOB'].loc[i].to_pydatetime()).days / 365\n",
    "        ]\n",
    "\n",
    "    split.drop('DOB', axis=1, inplace=True)\n",
    "    split = split[['SUBJECT_ID', 'HADM_ID', 'ADMITTIME', 'DISCHTIME', 'Gender', 'Age', 'DEATHTIME', 're_admission', 'elixhauser']]\n",
    "    split.columns = ['SUBJECT_ID', 'HADM_ID', 'STARTTIME', 'ENDTIME', 'Gender', 'Age', 'DEATHTIME', 're_admission', 'elixhauser']\n",
    "    split.to_csv(temporal_path + f'dataset_split_{hour}_hour.csv', index=False)\n",
    "\n",
    "    \n",
    "processes = []\n",
    "for i in range(1, 11):\n",
    "    processes.append(Process(target=split_time, args=(i, dataset)))\n",
    "for i in range(1, 11):\n",
    "    processes[i].start()\n",
    "for i in range(1, 11):\n",
    "    processes[i].join()"
   ]
  }
 ],
 "metadata": {
  "kernelspec": {
   "display_name": "Python 3 (ipykernel)",
   "language": "python",
   "name": "python3"
  },
  "language_info": {
   "codemirror_mode": {
    "name": "ipython",
    "version": 3
   },
   "file_extension": ".py",
   "mimetype": "text/x-python",
   "name": "python",
   "nbconvert_exporter": "python",
   "pygments_lexer": "ipython3",
   "version": "3.9.7"
  },
  "vscode": {
   "interpreter": {
    "hash": "a6b85f0b129ef5a67fa633f1e56824ea1826468491be8c35c5a2854f65d8242c"
   }
  }
 },
 "nbformat": 4,
 "nbformat_minor": 5
}
