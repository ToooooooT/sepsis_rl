{
 "cells": [
  {
   "cell_type": "code",
   "execution_count": 6,
   "id": "e49e5f72",
   "metadata": {},
   "outputs": [],
   "source": [
    "import pandas as pd"
   ]
  },
  {
   "cell_type": "code",
   "execution_count": 7,
   "id": "56f156aa",
   "metadata": {},
   "outputs": [],
   "source": [
    "index = [\n",
    "         'Albumin', 'Arterial pH', 'Calcium', 'Glucose', \n",
    "         'Hemoglobin', 'Magnesium', 'PTT', 'Postassium', 'SGPT',\n",
    "         'Arterial blood gas', 'BUN', 'HCO3', 'INR', \n",
    "         'Arterial Lactate', 'CO2', 'Creatinine', 'Ionized Calcium',\n",
    "         'PT', 'Platelets Count', 'SGOT', 'Total Bilirubin', \n",
    "         'White Blood Cell Count', 'Diastolic Blood Pressure',\n",
    "         'Systolic Blood Pressure', 'Mean Blood Pressure', 'PaCO2',\n",
    "         'PaO2', 'FiO2', 'PaO/FiO2 ratio', 'Respiratory rate',\n",
    "         'Temperature (Celsius)', 'Weight (kg)', 'Heart Rate',\n",
    "         'SpO2', 'Mechanical Ventilation'\n",
    "        ]\n",
    "\n",
    "data = {\n",
    "        'OUTLIER LOW': [None] * len(index), \n",
    "        'VALID LOW': [None] * len(index), \n",
    "        'IMPUTE': [None] * len(index), \n",
    "        'VALID HIGH': [None] * len(index),\n",
    "        'OUTLIER HIGH': [None] * len(index),\n",
    "        'GROUP_ID': ['-1'] * len(index)\n",
    "       }"
   ]
  },
  {
   "cell_type": "code",
   "execution_count": 8,
   "id": "412d6fb4",
   "metadata": {},
   "outputs": [],
   "source": [
    "data = pd.DataFrame(data, index=index)"
   ]
  },
  {
   "cell_type": "code",
   "execution_count": 9,
   "id": "5a746b94",
   "metadata": {},
   "outputs": [],
   "source": [
    "# column = ('OUTLIER LOW', 'VALID LOW', 'IMPUTE', 'VALID HIGH', 'OUTLIER_HIGH', 'GROUP_ID')\n",
    "data.loc['Albumin'] = [0, 0.6, 3.1, 6, 60, '50862, 772, 1521, 227456'] # delete some group_id from MIMIC_EXTRACT\n",
    "data.loc['Arterial pH']['GROUP_ID'] = '780, 1126, 223830, 50820'\n",
    "data.loc['Calcium']['GROUP_ID'] = '225625, 50893, 786, 1522'\n",
    "data.loc['Glucose'] = [0, 33, 128, 2000, 2200, '220621, 225664, 50809, 811, 807, 50931, 226537, 1529']\n",
    "data.loc['Hemoglobin'] = [0, 0, 10.2, 25, 30, '220228, 51222, 50811, 814']\n",
    "data.loc['Magnesium'] = [0, 0, 2, 20, 22, '220635, 50960, 1532, 821']\n",
    "data.loc['PTT'] = [0, 18.8, 34.3, 150, 150, '227466, 825, 1533, 51275']\n",
    "data.loc['Postassium'] = [0, 0, 4.1, 12, 15, '829, 50971, 1535, 227464, 50822']\n",
    "data.loc['SGPT']['GROUP_ID'] = '3802'\n",
    "# data.loc['Arterial blood gas']\n",
    "data.loc['BUN'] = [0, 0, 23, 250, 275, '51006, 781, 1162, 225624']\n",
    "data.loc['HCO3'] = [0, 0, 25, 60, 66, '50882, 227443, 50803']\n",
    "# data.loc['INR']\n",
    "data.loc['Arterial Lactate'] = [0, 0.4, 1.8, 30, 33, '50813']\n",
    "data.loc['CO2']['GROUP_ID'] = '787'\n",
    "data.loc['Creatinine'] = [0, 0.1, 1, 60, 66, '791, 1525, 220615, 50912']\n",
    "data.loc['Ionized Calcium']['GROUP_ID'] = '50808, 816, 225667'\n",
    "data.loc['PT'] = [0, 9.9, 14.5, 97.1, 150, '1286, 824, 227465, 51274']\n",
    "data.loc['Platelets Count'] = [0, 0, 208, 2000, 2200, '51265, 828, 227457']\n",
    "data.loc['SGOT']['GROUP_ID'] = '3801'\n",
    "data.loc['Total Bilirubin'] = [0, 0.1, 0.9, 60, 66, '848, 225690, 1538, 50885'] # delete some group_id from MIMIC_EXTRACT\n",
    "data.loc['White Blood Cell Count'] = [0, 0, 9.9, 1000, 1100, '861, 1542, 220546, 51301, 51300, 1127']\n",
    "data.loc['Diastolic Blood Pressure'] = [0, 0, 59, 375, 375, '224643, 225310, 220180, 8555, 220051, 8368, 8441, 8440']\n",
    "data.loc['Systolic Blood Pressure'] = [0, 0, 118, 375, 375, '442, 227243, 224167, 220179, 225309']\n",
    "data.loc['Mean Blood Pressure'] = [0, 14, 77, 330, 375, '456, 220181, 224, 225312, 220052, 52, 6702, 224322']\n",
    "data.loc['PaCO2'] = [0, 0, 40, 200, 220, '226062, 778, 220235, 50818']\n",
    "data.loc['PaO2'] = [0, 32, 112, 700, 770, '779']\n",
    "data.loc['FiO2'] = [0.2, 0.21, 0.21, 1, 1.1, '189, 727, 223835']\n",
    "# data.loc['PaO/FiO2 ratio']\n",
    "data.loc['Respiratory rate'] = [0, 0, 19, 300, 330, '224422, 618, 220210, 224689, 614, 651, 224690, 615']\n",
    "data.loc['Temperature (Celsius)'] = [14.2, 26, 37, 45, 47, '223761, 677, 676, 679, 678, 223762']\n",
    "data.loc['Weight (kg)'] = [0, 0, 81.8, 250, 250, '226531, 763, 224639, 226512']\n",
    "data.loc['Heart Rate'] = [0, 0, 86, 350, 390, '211, 220045']\n",
    "data.loc['SpO2'] = [0, 0, 98, 100, 150, '646, 50817, 834, 220277']\n",
    "# data.loc['Mechanical Ventilation']"
   ]
  },
  {
   "cell_type": "code",
   "execution_count": 10,
   "id": "0afd3e32",
   "metadata": {},
   "outputs": [],
   "source": [
    "data.to_csv('../data/mimiciv/variable_range.csv')"
   ]
  },
  {
   "cell_type": "code",
   "execution_count": null,
   "id": "cdedd4a6",
   "metadata": {},
   "outputs": [],
   "source": []
  }
 ],
 "metadata": {
  "kernelspec": {
   "display_name": "Python 3 (ipykernel)",
   "language": "python",
   "name": "python3"
  },
  "language_info": {
   "codemirror_mode": {
    "name": "ipython",
    "version": 3
   },
   "file_extension": ".py",
   "mimetype": "text/x-python",
   "name": "python",
   "nbconvert_exporter": "python",
   "pygments_lexer": "ipython3",
   "version": "3.8.13"
  }
 },
 "nbformat": 4,
 "nbformat_minor": 5
}
